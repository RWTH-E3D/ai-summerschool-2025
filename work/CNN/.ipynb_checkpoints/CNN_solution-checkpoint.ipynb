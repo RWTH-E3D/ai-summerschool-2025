{
 "cells": [
  {
   "cell_type": "code",
   "execution_count": 1,
   "id": "927aa7e0-5d1f-42cd-b685-c2714077f76e",
   "metadata": {},
   "outputs": [],
   "source": [
    "import torch\n",
    "import torch.nn as nn\n",
    "import torch.optim as optim\n",
    "from torchvision import datasets, transforms\n",
    "from torch.utils.data import DataLoader\n",
    "import matplotlib.pyplot as plt"
   ]
  },
  {
   "cell_type": "code",
   "execution_count": 5,
   "id": "418ee275-b147-4fc8-8c8b-c778aff30ee7",
   "metadata": {},
   "outputs": [],
   "source": [
    "# 1. Paths\n",
    "data_dir = r\"/home/jovyan/work/CNN/IfcTrainTest\"  # needs to have more than one class in the folder"
   ]
  },
  {
   "cell_type": "code",
   "execution_count": 6,
   "id": "27943afa-3c71-4c3f-a7e8-8d7bdca3f581",
   "metadata": {},
   "outputs": [],
   "source": [
    "# 2. Image Transformations\n",
    "transform = transforms.Compose([ \n",
    "    transforms.Resize((128, 128)),\n",
    "    transforms.ToTensor(),\n",
    "    transforms.Normalize(mean=[0.5], std=[0.5])\n",
    "])"
   ]
  },
  {
   "cell_type": "code",
   "execution_count": 7,
   "id": "6ad20f01-3845-48c6-abaf-2807286d6dd7",
   "metadata": {},
   "outputs": [],
   "source": [
    "# 3. Dataset & DataLoader\n",
    "dataset = datasets.ImageFolder(root=data_dir, transform=transform)\n",
    "dataloader = DataLoader(dataset, batch_size=4, shuffle=True)"
   ]
  },
  {
   "cell_type": "code",
   "execution_count": 8,
   "id": "204e16ac-2c11-4abb-a287-62cf655689f0",
   "metadata": {},
   "outputs": [],
   "source": [
    "# 4. Simple CNN Architecture\n",
    "class SimpleCNN(nn.Module):\n",
    "    def __init__(self):\n",
    "        super(SimpleCNN, self).__init__()\n",
    "        self.conv_layer = nn.Sequential(\n",
    "            nn.Conv2d(3, 16, kernel_size=3, padding=1),  # RGB = 3 channels\n",
    "            nn.ReLU(),\n",
    "            nn.MaxPool2d(2, 2),\n",
    "\n",
    "            nn.Conv2d(16, 32, kernel_size=3, padding=1),\n",
    "            nn.ReLU(),\n",
    "            nn.MaxPool2d(2, 2)\n",
    "        )\n",
    "        self.fc_layer = nn.Sequential(\n",
    "            nn.Flatten(),\n",
    "            nn.Linear(32 * 32 * 32, 128),\n",
    "            nn.ReLU(),\n",
    "            nn.Linear(128, len(dataset.classes))  # output = number of classes\n",
    "        )\n",
    "\n",
    "    def forward(self, x):\n",
    "        x = self.conv_layer(x)\n",
    "        x = self.fc_layer(x)\n",
    "        return x"
   ]
  },
  {
   "cell_type": "code",
   "execution_count": 9,
   "id": "2b88b127-3479-48c0-a91a-90f93f81765d",
   "metadata": {},
   "outputs": [],
   "source": [
    "# 5. Training Setup\n",
    "device = torch.device(\"cuda\" if torch.cuda.is_available() else \"cpu\")\n",
    "model = SimpleCNN().to(device)\n",
    "\n",
    "criterion = nn.CrossEntropyLoss()\n",
    "optimizer = optim.Adam(model.parameters(), lr=0.001)"
   ]
  },
  {
   "cell_type": "code",
   "execution_count": null,
   "id": "0956c2b5-da76-44b7-94ec-81f1d360ed6b",
   "metadata": {},
   "outputs": [
    {
     "name": "stdout",
     "output_type": "stream",
     "text": [
      "Epoch 1, Loss: 540.9989\n"
     ]
    }
   ],
   "source": [
    "# 6. Training Loop\n",
    "for epoch in range(5):  # short training for testing\n",
    "    model.train()\n",
    "    running_loss = 0.0\n",
    "    for inputs, labels in dataloader:\n",
    "        inputs, labels = inputs.to(device), labels.to(device)\n",
    "\n",
    "        optimizer.zero_grad()\n",
    "        outputs = model(inputs)\n",
    "        loss = criterion(outputs, labels)\n",
    "        loss.backward()\n",
    "        optimizer.step()\n",
    "\n",
    "        running_loss += loss.item()\n",
    "    print(f\"Epoch {epoch+1}, Loss: {running_loss:.4f}\")"
   ]
  },
  {
   "cell_type": "code",
   "execution_count": null,
   "id": "083220f5-9cfe-419a-90b2-f3f188397f76",
   "metadata": {},
   "outputs": [],
   "source": [
    "# 7. Visualizing Predictions (Optional)\n",
    "model.eval()\n",
    "with torch.no_grad():\n",
    "    inputs, labels = next(iter(dataloader))\n",
    "    inputs = inputs.to(device)\n",
    "    outputs = model(inputs)\n",
    "    preds = torch.argmax(outputs, dim=1)\n",
    "\n",
    "    plt.figure(figsize=(10, 4))\n",
    "    for i in range(4):\n",
    "        img = inputs[i].cpu().permute(1, 2, 0).numpy() * 0.5 + 0.5\n",
    "        plt.subplot(1, 4, i+1)\n",
    "        plt.imshow(img)\n",
    "        plt.title(f\"Pred: {dataset.classes[preds[i]]}\")\n",
    "        plt.axis(\"off\")\n",
    "    plt.show()"
   ]
  },
  {
   "cell_type": "code",
   "execution_count": null,
   "id": "864ebf5a-1a10-4511-925f-bcb47a4cb391",
   "metadata": {},
   "outputs": [],
   "source": [
    "# 8. Confusion Matrix\n",
    "from sklearn.metrics import confusion_matrix\n",
    "import seaborn as sns\n",
    "import numpy as np\n",
    "\n",
    "# Ensure model is in evaluation mode\n",
    "model.eval()\n",
    "\n",
    "all_preds = []\n",
    "all_labels = []\n",
    "\n",
    "with torch.no_grad():\n",
    "    for inputs, labels in dataloader:\n",
    "        inputs, labels = inputs.to(device), labels.to(device)\n",
    "        outputs = model(inputs)\n",
    "        preds = torch.argmax(outputs, dim=1)\n",
    "\n",
    "        all_preds.extend(preds.cpu().numpy())\n",
    "        all_labels.extend(labels.cpu().numpy())\n",
    "\n",
    "# Compute confusion matrix\n",
    "cm = confusion_matrix(all_labels, all_preds)\n",
    "\n",
    "# Class names from dataset\n",
    "class_names = dataset.classes\n",
    "\n",
    "# Plot the confusion matrix\n",
    "plt.figure(figsize=(6, 5))\n",
    "sns.heatmap(cm, annot=True, fmt='d', cmap='Blues',\n",
    "            xticklabels=class_names, yticklabels=class_names)\n",
    "plt.xlabel('Predicted')\n",
    "plt.ylabel('Actual')\n",
    "plt.title('Confusion Matrix')\n",
    "plt.tight_layout()\n",
    "plt.show()"
   ]
  },
  {
   "cell_type": "code",
   "execution_count": null,
   "id": "c590f216-94ed-4b91-9f0a-75036f433d1f",
   "metadata": {},
   "outputs": [],
   "source": []
  }
 ],
 "metadata": {
  "kernelspec": {
   "display_name": "Python 3 (ipykernel)",
   "language": "python",
   "name": "python3"
  },
  "language_info": {
   "codemirror_mode": {
    "name": "ipython",
    "version": 3
   },
   "file_extension": ".py",
   "mimetype": "text/x-python",
   "name": "python",
   "nbconvert_exporter": "python",
   "pygments_lexer": "ipython3",
   "version": "3.12.8"
  }
 },
 "nbformat": 4,
 "nbformat_minor": 5
}
