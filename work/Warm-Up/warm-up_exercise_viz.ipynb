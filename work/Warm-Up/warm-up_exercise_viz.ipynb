{
 "cells": [
  {
   "metadata": {},
   "cell_type": "markdown",
   "source": "Exercise for Data visualization",
   "id": "d9be9703b14a41c7"
  },
  {
   "metadata": {},
   "cell_type": "markdown",
   "source": "# Quality of Government dataset",
   "id": "db1b656abd355a1d"
  },
  {
   "metadata": {},
   "cell_type": "code",
   "outputs": [],
   "execution_count": null,
   "source": [
    "import pandas as pd\n",
    "import warnings\n",
    "warnings.filterwarnings(\"ignore\")"
   ],
   "id": "c765758bfef60d1"
  },
  {
   "metadata": {},
   "cell_type": "code",
   "outputs": [],
   "execution_count": null,
   "source": [
    "#read the data directly online:\n",
    "data = pd.read_csv(\"http://www.qogdata.pol.gu.se/data/qog_std_cs_jan19.csv\")\n",
    "df = data [[\"cname\", \"wdi_pop\", \"wdi_popgr\", \"wdi_gdpcapcur\", \"wdi_gdpcapgr\", \"wdi_area\", \"wdi_broadb\", \"ht_region\"]]\n",
    "df.columns = [\"name\", \"population\",\"population_growth\", \"gdp_per_capita\", \"gdp_growth\", \"area\", \"internet\", \"region\"]\n",
    "df.region = df.region.replace (range(1,11) , [\"Eastern Europe\", \"Latin America\", \"North Africa & Middle East\", \"Sub-Saharan Africa\", \"Western Europe and North America\", \"East Asia\",\"South-East Asia\", \"South Asia\", \"Pacific\", \"Caribbean\"])"
   ],
   "id": "12eb2b09d12fbbde"
  },
  {
   "metadata": {},
   "cell_type": "code",
   "outputs": [],
   "execution_count": null,
   "source": "df[\"population_density\"] = pd.to_numeric(df[\"population\"] / df[\"area\"], errors=\"coerce\")",
   "id": "cb373dfdc2ec671e"
  },
  {
   "metadata": {},
   "cell_type": "code",
   "outputs": [],
   "execution_count": null,
   "source": [
    "import matplotlib.pyplot as plt\n",
    "%matplotlib inline"
   ],
   "id": "c42209699ca7e796"
  },
  {
   "metadata": {},
   "cell_type": "markdown",
   "source": [
    "## Plot a bar chart of the population density in each country. Sort the bars in descending order of the population density\n",
    "\n"
   ],
   "id": "498f78bf551d705e"
  },
  {
   "metadata": {},
   "cell_type": "code",
   "outputs": [],
   "execution_count": null,
   "source": "pass",
   "id": "44d6fc93548e9cfd"
  },
  {
   "metadata": {},
   "cell_type": "markdown",
   "source": "## Plot a bar chart for the population in each country. Test the effect of using a logarithmic scale on the y-axis",
   "id": "cee5f6a21e2081bb"
  },
  {
   "metadata": {},
   "cell_type": "code",
   "outputs": [],
   "execution_count": null,
   "source": "pass",
   "id": "82e33c1f1b19ce9b"
  },
  {
   "metadata": {},
   "cell_type": "markdown",
   "source": "## Plot a histogram for the attribute 'population_growth'",
   "id": "b8d8bfe69acb874d"
  },
  {
   "metadata": {},
   "cell_type": "code",
   "outputs": [],
   "execution_count": null,
   "source": "pass",
   "id": "fadaeb35082f4ec7"
  },
  {
   "metadata": {},
   "cell_type": "markdown",
   "source": "## Plot a bar chart of the (per country) average population density in each region. Sort the bars in descending order of the population density",
   "id": "88b1174e528be973"
  },
  {
   "metadata": {},
   "cell_type": "code",
   "outputs": [],
   "execution_count": null,
   "source": "pass",
   "id": "aea7d189e1ca34ca"
  },
  {
   "metadata": {},
   "cell_type": "markdown",
   "source": "## Add to that plot the percentage number as a description for each bar",
   "id": "2d69e98096df0af3"
  },
  {
   "metadata": {},
   "cell_type": "code",
   "outputs": [],
   "execution_count": null,
   "source": "pass",
   "id": "22a5facf4df36444"
  },
  {
   "metadata": {},
   "cell_type": "markdown",
   "source": "## Compute the average (per country) population_growth and gdp_per_capita for each region. Plot these in a scatter plot against each other",
   "id": "85ea6592f284d899"
  },
  {
   "metadata": {},
   "cell_type": "code",
   "outputs": [],
   "execution_count": null,
   "source": "pass",
   "id": "52389d507b4e4442"
  },
  {
   "metadata": {},
   "cell_type": "markdown",
   "source": "## Add to the last plot a label  (region name) for each region",
   "id": "442fe57ce3a30abf"
  },
  {
   "metadata": {},
   "cell_type": "code",
   "outputs": [],
   "execution_count": null,
   "source": "pass",
   "id": "bbbc03d806770967"
  }
 ],
 "metadata": {},
 "nbformat": 4,
 "nbformat_minor": 5
}
