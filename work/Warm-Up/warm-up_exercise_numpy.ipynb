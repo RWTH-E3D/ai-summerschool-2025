{
 "cells": [
  {
   "metadata": {},
   "cell_type": "markdown",
   "source": [
    "# NumPy Basics - Practice Exercises\n",
    "This short exercise should take about 30 minutes and covers the following topics:\n",
    "\n",
    "- Creating arrays\n",
    "- Indexing and slicing\n",
    "- Array operations\n",
    "- Broadcasting\n",
    "- Useful NumPy functions\n"
   ],
   "id": "5d5cba6d51b5d6f0"
  },
  {
   "metadata": {},
   "cell_type": "markdown",
   "source": [
    "## 1. Creating Arrays\n",
    "Create the following arrays using NumPy:\n",
    "\n",
    "1. A 1D array of integers from 0 to 9\n",
    "2. A 2D array of shape (3, 3) with all elements equal to 7\n",
    "3. A 3x3 identity matrix"
   ],
   "id": "c63b51af08694f60"
  },
  {
   "metadata": {},
   "cell_type": "code",
   "outputs": [],
   "execution_count": null,
   "source": [
    "# Your code here\n",
    "import numpy as np\n"
   ],
   "id": "59b4034608abcff3"
  },
  {
   "metadata": {},
   "cell_type": "markdown",
   "source": [
    "## 2. Indexing and Slicing\n",
    "Given the array below, extract:\n",
    "\n",
    "1. The element in the 2nd row and 3rd column\n",
    "2. The first two rows\n",
    "3. All elements in the last column"
   ],
   "id": "49d4b20da03081e"
  },
  {
   "metadata": {},
   "cell_type": "code",
   "outputs": [],
   "execution_count": null,
   "source": [
    "a = np.array([[1, 2, 3], [4, 5, 6], [7, 8, 9]])\n",
    "# Your code here\n"
   ],
   "id": "dc079468ae36ee98"
  },
  {
   "metadata": {},
   "cell_type": "markdown",
   "source": [
    "## 3. Array Math\n",
    "Using the arrays `a` and `b` below:\n",
    "\n",
    "1. Add them element-wise\n",
    "2. Multiply them element-wise\n",
    "3. Compute the dot product"
   ],
   "id": "2964b845d429f8ab"
  },
  {
   "metadata": {},
   "cell_type": "code",
   "outputs": [],
   "execution_count": null,
   "source": [
    "a = np.array([1, 2, 3])\n",
    "b = np.array([4, 5, 6])\n",
    "# Your code here\n"
   ],
   "id": "3fd4b732b4a3b9f8"
  },
  {
   "metadata": {},
   "cell_type": "markdown",
   "source": [
    "## 4. Broadcasting\n",
    "Create a 2D array of shape (3,3) filled with 1s, and add a 1D array `[1, 2, 3]` to it using broadcasting."
   ],
   "id": "11ab3057b3c55625"
  },
  {
   "metadata": {},
   "cell_type": "code",
   "outputs": [],
   "execution_count": null,
   "source": "# Your code here\n",
   "id": "efddd74af26fcdd9"
  },
  {
   "metadata": {},
   "cell_type": "markdown",
   "source": [
    "## 5. Useful Functions\n",
    "Given the array below:\n",
    "\n",
    "1. Compute the mean\n",
    "2. Compute the sum of all elements\n",
    "3. Find the maximum value"
   ],
   "id": "e9d70788034f8067"
  },
  {
   "metadata": {},
   "cell_type": "code",
   "outputs": [],
   "execution_count": null,
   "source": [
    "arr = np.array([[10, 20, 30], [5, 15, 25]])\n",
    "# Your code here\n"
   ],
   "id": "2a0741a6d5c6f4b3"
  }
 ],
 "metadata": {},
 "nbformat": 4,
 "nbformat_minor": 5
}
