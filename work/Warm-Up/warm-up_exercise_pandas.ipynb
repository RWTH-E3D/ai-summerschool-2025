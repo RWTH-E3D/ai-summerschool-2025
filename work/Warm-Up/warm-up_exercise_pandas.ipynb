{
 "cells": [
  {
   "metadata": {},
   "cell_type": "markdown",
   "source": "# Quality of Government Dataset",
   "id": "4d1bf87af07495c3"
  },
  {
   "metadata": {},
   "cell_type": "code",
   "outputs": [],
   "execution_count": null,
   "source": [
    "#read the data directly online:\n",
    "import pandas as pd\n",
    "data = pd.read_csv (\"http://www.qogdata.pol.gu.se/data/qog_std_cs_jan19.csv\")"
   ],
   "id": "8232298b61822445"
  },
  {
   "metadata": {},
   "cell_type": "code",
   "outputs": [],
   "execution_count": null,
   "source": "data.head()",
   "id": "aa432180d7b5e083"
  },
  {
   "metadata": {},
   "cell_type": "markdown",
   "source": "## How many rows does this dataset have?",
   "id": "de21269489cc7217"
  },
  {
   "metadata": {},
   "cell_type": "code",
   "outputs": [],
   "execution_count": null,
   "source": "pass",
   "id": "a64cd0bf2e444bf2"
  },
  {
   "metadata": {},
   "cell_type": "markdown",
   "source": "## How many columns does this dataset have?",
   "id": "f4eec19c967f458b"
  },
  {
   "metadata": {},
   "cell_type": "code",
   "outputs": [],
   "execution_count": null,
   "source": "pass",
   "id": "ce8dfb80f36501dd"
  },
  {
   "metadata": {},
   "cell_type": "markdown",
   "source": [
    "## Select the following columns from the dataset: \n",
    "\n",
    "\"cname\", \"wdi_pop\", \"wdi_popgr\", \"wdi_gdpcapcur\", \"wdi_gdpcapgr\", \"wdi_area\", \"wdi_broadb\", \"ht_region\""
   ],
   "id": "633ef71888ce04bc"
  },
  {
   "metadata": {},
   "cell_type": "code",
   "outputs": [],
   "execution_count": null,
   "source": "pass",
   "id": "f391f8cf166470d3"
  },
  {
   "metadata": {},
   "cell_type": "markdown",
   "source": "## Rename these columns to: \"country\", \"population\",\"population_growth\", \"gdp_per_capita\", \"gdp_growth\", \"area\", \"internet\", \"region\"",
   "id": "df0e8db15723ebfa"
  },
  {
   "metadata": {},
   "cell_type": "code",
   "outputs": [],
   "execution_count": null,
   "source": "pass",
   "id": "4bbcba7336935e2b"
  },
  {
   "metadata": {},
   "cell_type": "markdown",
   "source": [
    "## Create a categorical column from the region codes\n",
    "the codes (in order correspond to the regions as follows):\n",
    "\"Eastern Europe\", \"Latin America\", \"North Africa & Middle East\", \"Sub-Saharan Africa\", \"Western Europe and North America\", \"East Asia\",\"South-East Asia\", \"South Asia\", \"Pacific\", \"Caribbean\""
   ],
   "id": "eed8118207528e09"
  },
  {
   "metadata": {},
   "cell_type": "code",
   "outputs": [],
   "execution_count": null,
   "source": "pass",
   "id": "8d89234a5c01d8b1"
  },
  {
   "metadata": {},
   "cell_type": "markdown",
   "source": "## Select the five countries with the highest population",
   "id": "dae69802af4d5ae9"
  },
  {
   "metadata": {},
   "cell_type": "code",
   "outputs": [],
   "execution_count": null,
   "source": "pass",
   "id": "53356d79df546f72"
  },
  {
   "metadata": {},
   "cell_type": "markdown",
   "source": "## What are the mean values for each attribute?",
   "id": "6ac57bc2899ea084"
  },
  {
   "metadata": {},
   "cell_type": "code",
   "outputs": [],
   "execution_count": null,
   "source": "pass",
   "id": "9a19ff9cda95ac4c"
  },
  {
   "metadata": {},
   "cell_type": "markdown",
   "source": "## Which country has the highest population in the region \"Eastern Europe\"?",
   "id": "5a62f4245aca834a"
  },
  {
   "metadata": {},
   "cell_type": "code",
   "outputs": [],
   "execution_count": null,
   "source": "pass",
   "id": "cbfc5f7a1597d667"
  },
  {
   "metadata": {},
   "cell_type": "markdown",
   "source": "## Create a new column \"population_density\"",
   "id": "8aa2269ad9c50e93"
  },
  {
   "metadata": {},
   "cell_type": "code",
   "outputs": [],
   "execution_count": null,
   "source": "pass",
   "id": "be2328ecf07bb92e"
  },
  {
   "metadata": {},
   "cell_type": "markdown",
   "source": [
    "### What is the per country mean population density for each region\n",
    "(= sum of densities for each country / number of countries)"
   ],
   "id": "a9d2808f251beb4e"
  },
  {
   "metadata": {},
   "cell_type": "code",
   "outputs": [],
   "execution_count": null,
   "source": "pass",
   "id": "b577a146544d90a6"
  },
  {
   "metadata": {},
   "cell_type": "markdown",
   "source": [
    "## What is the actual population density in each region\n",
    "\n",
    "(= Sum of population in the region / Sum of areas in the region)\n",
    "\n",
    "Hint: Compute first the population sum and the area sum for each region\n"
   ],
   "id": "7f9292d2ab965127"
  },
  {
   "metadata": {},
   "cell_type": "code",
   "outputs": [],
   "execution_count": null,
   "source": "pass",
   "id": "a82def35b4d694be"
  }
 ],
 "metadata": {},
 "nbformat": 4,
 "nbformat_minor": 5
}
