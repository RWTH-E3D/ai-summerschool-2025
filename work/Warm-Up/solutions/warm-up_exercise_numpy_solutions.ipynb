{
 "cells": [
  {
   "metadata": {},
   "cell_type": "markdown",
   "source": [
    "# NumPy Basics - Practice Exercises\n",
    "This short exercise should take about 30 minutes and covers the following topics:\n",
    "\n",
    "- Creating arrays\n",
    "- Indexing and slicing\n",
    "- Array operations\n",
    "- Broadcasting\n",
    "- Useful NumPy functions\n"
   ],
   "id": "3a9c0dde22881750"
  },
  {
   "metadata": {},
   "cell_type": "markdown",
   "source": [
    "## 1. Creating Arrays\n",
    "Create the following arrays using NumPy:\n",
    "\n",
    "1. A 1D array of integers from 0 to 9\n",
    "2. A 2D array of shape (3, 3) with all elements equal to 7\n",
    "3. A 3x3 identity matrix"
   ],
   "id": "e66a72ca43068b62"
  },
  {
   "metadata": {},
   "cell_type": "code",
   "outputs": [],
   "execution_count": null,
   "source": [
    "import numpy as np\n",
    "\n",
    "# 1D array from 0 to 9\n",
    "a = np.arange(10)\n",
    "\n",
    "# 2D array of shape (3,3) filled with 7\n",
    "b = np.full((3, 3), 7)\n",
    "\n",
    "# 3x3 identity matrix\n",
    "c = np.eye(3)"
   ],
   "id": "b74a322fe0392dfe"
  },
  {
   "metadata": {},
   "cell_type": "markdown",
   "source": [
    "## 2. Indexing and Slicing\n",
    "Given the array below, extract:\n",
    "\n",
    "1. The element in the 2nd row and 3rd column\n",
    "2. The first two rows\n",
    "3. All elements in the last column"
   ],
   "id": "378f8cd906ebfb9a"
  },
  {
   "metadata": {},
   "cell_type": "code",
   "outputs": [],
   "execution_count": null,
   "source": [
    "a = np.array([[1, 2, 3], [4, 5, 6], [7, 8, 9]])\n",
    "\n",
    "# Extract element\n",
    "el = a[1, 2]\n",
    "\n",
    "# First two rows\n",
    "rows = a[:2]\n",
    "\n",
    "# Last column\n",
    "last_col = a[:, -1]\n"
   ],
   "id": "16f4173b7c95eec0"
  },
  {
   "metadata": {},
   "cell_type": "markdown",
   "source": [
    "## 3. Array Math\n",
    "Using the arrays `a` and `b` below:\n",
    "\n",
    "1. Add them element-wise\n",
    "2. Multiply them element-wise\n",
    "3. Compute the dot product"
   ],
   "id": "6f215c990ae705d6"
  },
  {
   "metadata": {},
   "cell_type": "code",
   "outputs": [],
   "execution_count": null,
   "source": [
    "# Element-wise addition\n",
    "sum_ab = a + b\n",
    "\n",
    "# Element-wise multiplication\n",
    "prod_ab = a * b\n",
    "\n",
    "# Dot product\n",
    "dot_ab = np.dot(a, b)"
   ],
   "id": "3b1c11502b52d2de"
  },
  {
   "metadata": {},
   "cell_type": "markdown",
   "source": [
    "## 4. Broadcasting\n",
    "Create a 2D array of shape (3,3) filled with 1s, and add a 1D array `[1, 2, 3]` to it using broadcasting."
   ],
   "id": "726d63b43870b4b3"
  },
  {
   "metadata": {},
   "cell_type": "code",
   "outputs": [],
   "execution_count": null,
   "source": [
    "A = np.ones((3, 3))\n",
    "B = np.array([1, 2, 3])\n",
    "result = A + B"
   ],
   "id": "dee01b5b0f9a60cb"
  },
  {
   "metadata": {},
   "cell_type": "markdown",
   "source": [
    "## 5. Useful Functions\n",
    "Given the array below:\n",
    "\n",
    "1. Compute the mean\n",
    "2. Compute the sum of all elements\n",
    "3. Find the maximum value"
   ],
   "id": "a2e509ca61f35ff1"
  },
  {
   "metadata": {},
   "cell_type": "code",
   "outputs": [],
   "execution_count": null,
   "source": [
    "arr = np.array([[10, 20, 30], [5, 15, 25]])\n",
    "\n",
    "# Compute mean\n",
    "mean_val = np.mean(arr)\n",
    "\n",
    "# Sum of elements\n",
    "total_sum = np.sum(arr)\n",
    "\n",
    "# Maximum value\n",
    "max_val = np.max(arr)\n"
   ],
   "id": "3b8e3ba853c26fb9"
  }
 ],
 "metadata": {},
 "nbformat": 4,
 "nbformat_minor": 5
}
