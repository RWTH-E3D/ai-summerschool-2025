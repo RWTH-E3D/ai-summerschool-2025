{
 "cells": [
  {
   "metadata": {},
   "cell_type": "markdown",
   "source": "Exercise for Data visualization",
   "id": "e7688fefa23bd524"
  },
  {
   "metadata": {},
   "cell_type": "code",
   "outputs": [],
   "execution_count": null,
   "source": "import numpy as np",
   "id": "53ba8e8516533f2a"
  },
  {
   "metadata": {},
   "cell_type": "code",
   "outputs": [],
   "execution_count": null,
   "source": [
    "import matplotlib.pyplot as plt\n",
    "%matplotlib inline"
   ],
   "id": "d3b9bf47e8b29bf8"
  },
  {
   "metadata": {},
   "cell_type": "markdown",
   "source": "# Quality of Government dataset",
   "id": "4cb32a6616dc7219"
  },
  {
   "metadata": {},
   "cell_type": "code",
   "outputs": [],
   "execution_count": null,
   "source": "import pandas as pd",
   "id": "e1db7ac00612225a"
  },
  {
   "metadata": {},
   "cell_type": "code",
   "outputs": [],
   "execution_count": null,
   "source": [
    "#read the data directly online:\n",
    "data = pd.read_csv(\"http://www.qogdata.pol.gu.se/data/qog_std_cs_jan19.csv\")\n",
    "\n",
    "df = data[[\"cname\", \"wdi_pop\", \"wdi_popgr\", \"wdi_gdpcapcur\", \"wdi_gdpcapgr\", \"wdi_area\", \"wdi_broadb\", \"ht_region\"]].copy()\n",
    "df.columns = [\"name\", \"population\",\"population_growth\", \"gdp_per_capita\", \"gdp_growth\", \"area\", \"internet\", \"region\"]\n",
    "df.region = df.region.replace(range(1,11),[\"Eastern Europe\", \"Latin America\", \"North Africa & Middle East\", \"Sub-Saharan Africa\", \"Western Europe and North America\", \"East Asia\",\"South-East Asia\", \"South Asia\", \"Pacific\", \"Caribbean\"])"
   ],
   "id": "3fb5db7275cd040f"
  },
  {
   "metadata": {},
   "cell_type": "code",
   "outputs": [],
   "execution_count": null,
   "source": [
    "# lets pre-compute the population density for each country, we will need it a couple of times\n",
    "df[\"population_density\"] = pd.to_numeric(df[\"population\"] / df[\"area\"], errors=\"coerce\")\n"
   ],
   "id": "5cd458351097cabc"
  },
  {
   "metadata": {},
   "cell_type": "markdown",
   "source": [
    "## Plot a bar chart of the population density in each country. Sort the bars in descending order of the population density\n",
    "\n"
   ],
   "id": "af90a6c546aa5139"
  },
  {
   "metadata": {},
   "cell_type": "code",
   "outputs": [],
   "execution_count": null,
   "source": [
    "plt.figure(figsize=(40,6))\n",
    "densities = df[[\"name\",\"population_density\"]].sort_values(\"population_density\", ascending=False)\n",
    "plt.bar(range(len(df)), densities.population_density.values, tick_label=densities.name.values)\n",
    "plt.xticks(rotation=90, fontsize=8)\n",
    "plt.show()"
   ],
   "id": "a86353669ff01aac"
  },
  {
   "metadata": {},
   "cell_type": "markdown",
   "source": "## Plot a bar chart for the population in each country. Test the effect of using a logarithmic scale on the y-axis",
   "id": "3f426dcfcc1c9e57"
  },
  {
   "metadata": {},
   "cell_type": "code",
   "outputs": [],
   "execution_count": null,
   "source": [
    "plt.figure(figsize=(30,5))\n",
    "populations = df[[\"name\",\"population\"]].sort_values(\"population\", ascending=False)\n",
    "plt.bar(range(len(df)), populations.population.values, tick_label=populations.name.values)\n",
    "plt.xticks(rotation=90, fontsize=8)\n",
    "plt.show()"
   ],
   "id": "97da5d0cf93aff9c"
  },
  {
   "metadata": {},
   "cell_type": "code",
   "outputs": [],
   "execution_count": null,
   "source": [
    "plt.figure(figsize=(30,5))\n",
    "populations = df[[\"name\",\"population\"]].sort_values(\"population\", ascending=False)\n",
    "plt.bar(range(len(df)), populations.population.values, tick_label=populations.name.values)\n",
    "plt.xticks(rotation=90, fontsize=8)\n",
    "plt.yscale(\"log\")\n",
    "plt.show()\n"
   ],
   "id": "3b1ca3e4faffd9ed"
  },
  {
   "metadata": {},
   "cell_type": "markdown",
   "source": "## Plot a histogram for the attribute 'population_growth'",
   "id": "60aa2c0a56679911"
  },
  {
   "metadata": {},
   "cell_type": "code",
   "outputs": [],
   "execution_count": null,
   "source": [
    "\n",
    "plt.hist(df.population_growth.dropna(), bins=10)\n",
    "plt.show()\n"
   ],
   "id": "6d73c6c2d18231df"
  },
  {
   "metadata": {},
   "cell_type": "markdown",
   "source": [
    "## Plot a bar chart of the (per country) average population density in each region. Sort the bars in descending order of the population density\n",
    "That is, plot one bar per region; You can compute the population density per region by just averaging the population density of each country in the region."
   ],
   "id": "42f58bf91871b8c7"
  },
  {
   "metadata": {},
   "cell_type": "code",
   "outputs": [],
   "execution_count": null,
   "source": [
    "g = df.groupby(\"region\")[\"population_density\"].mean().sort_values(ascending=False)\n",
    "labels = list(g.index)\n",
    "val = list (g.values)\n",
    "plt.bar(range(len(val)), val, tick_label=labels)\n",
    "plt.xticks(rotation=90, fontsize=10)\n",
    "plt.show()\n"
   ],
   "id": "ea8f12189c0ccea9"
  },
  {
   "metadata": {},
   "cell_type": "markdown",
   "source": "## Add to that rounded number of the population density (people per km²) of as a description to each bar",
   "id": "41f852bbc4df0cc9"
  },
  {
   "metadata": {},
   "cell_type": "code",
   "outputs": [],
   "execution_count": null,
   "source": [
    "g = df.groupby(\"region\")[\"population_density\"].mean().sort_values(ascending=False)\n",
    "labels = list(g.index)\n",
    "val = list (g.values)\n",
    "plt.bar (range(len(val)), val, tick_label=labels)\n",
    "plt.xticks(rotation=90, fontsize=10)\n",
    "ax = plt.gca()\n",
    "\n",
    "for i,row in enumerate(g):\n",
    "    ax.annotate(int(np.round(row)), xy=(i-0.2, row+10), color=\"k\", fontsize=8)\n",
    "plt.show()\n"
   ],
   "id": "5f9bb8946abf9f45"
  },
  {
   "metadata": {},
   "cell_type": "markdown",
   "source": "## Compute the average (per country) population_growth and gdp_per_capita for each region. Plot these in a scatter plot against each other",
   "id": "2d8aee56b43b94b1"
  },
  {
   "metadata": {},
   "cell_type": "code",
   "outputs": [],
   "execution_count": null,
   "source": [
    "df[\"gdp_per_capita\"] = pd.to_numeric(df[\"gdp_per_capita\"], errors=\"coerce\")\n",
    "df[\"population_growth\"] = pd.to_numeric(df[\"population_growth\"], errors=\"coerce\")\n",
    "g = df.groupby(\"region\")[[\"gdp_per_capita\", \"population_growth\"]].mean()\n",
    "plt.scatter (g.gdp_per_capita, g.population_growth)\n",
    "plt.show()\n"
   ],
   "id": "ac45f9a875c8c6a0"
  },
  {
   "metadata": {},
   "cell_type": "markdown",
   "source": "## Add to the last plot a label  (region name) for each region",
   "id": "fb3d9f5fc4324587"
  },
  {
   "metadata": {},
   "cell_type": "code",
   "outputs": [],
   "execution_count": null,
   "source": [
    "g = df.groupby(\"region\")[[\"gdp_per_capita\", \"population_growth\"]].mean()\n",
    "plt.scatter (g.gdp_per_capita, g.population_growth)\n",
    "ax = plt.gca()\n",
    "\n",
    "g[\"region\"] = g.index\n",
    "for row in g.itertuples():\n",
    "    ax.annotate(row.region, xy=(row.gdp_per_capita, row.population_growth+0.05), color=\"k\", fontsize=8)\n",
    "plt.show()"
   ],
   "id": "548d10503ea51b85"
  }
 ],
 "metadata": {},
 "nbformat": 4,
 "nbformat_minor": 5
}
