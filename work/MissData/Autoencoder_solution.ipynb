{
 "cells": [
  {
   "cell_type": "code",
   "execution_count": 1,
   "id": "12f22909-9cce-4890-b253-9b45c3a7a569",
   "metadata": {},
   "outputs": [],
   "source": [
    "import pandas as pd\n",
    "import numpy as np\n",
    "from support_fun import corruption, RMSE, draw\n",
    "from sklearn.preprocessing import StandardScaler"
   ]
  },
  {
   "cell_type": "code",
   "execution_count": 2,
   "id": "2aeb56a6-ee23-4a53-ace8-1d99adb5c3b0",
   "metadata": {},
   "outputs": [],
   "source": [
    "# Load the data\n",
    "df = pd.read_excel('Dataset_RTsRTWINWeather_2018.xlsx', engine='openpyxl')[['timestamp', 'RoomTemperatureRT']]"
   ]
  },
  {
   "cell_type": "code",
   "execution_count": 3,
   "id": "5828aaf4-e369-45f0-bbce-c698d50b7efd",
   "metadata": {},
   "outputs": [],
   "source": [
    "# Set timestamp column to index\n",
    "df.set_index('timestamp', inplace=True)"
   ]
  },
  {
   "cell_type": "code",
   "execution_count": 4,
   "id": "f166e864-7a66-41b2-9c3d-3c91f91f3205",
   "metadata": {},
   "outputs": [
    {
     "name": "stdout",
     "output_type": "stream",
     "text": [
      "                     RoomTemperatureRT\n",
      "timestamp                             \n",
      "2018-05-20 00:00:00          23.584482\n",
      "2018-05-20 00:01:00          23.586210\n",
      "2018-05-20 00:02:00          23.584482\n",
      "2018-05-20 00:03:00          23.581122\n",
      "2018-05-20 00:04:00          23.576131\n"
     ]
    }
   ],
   "source": [
    "print(df.head()) #debugging"
   ]
  },
  {
   "cell_type": "code",
   "execution_count": 5,
   "id": "7b77fee8-0890-4623-aecf-cc8277ba22ca",
   "metadata": {},
   "outputs": [
    {
     "name": "stderr",
     "output_type": "stream",
     "text": [
      "/tmp/ipykernel_38743/4124092362.py:2: FutureWarning: 'T' is deprecated and will be removed in a future version, please use 'min' instead.\n",
      "  df_30min = df.asfreq(freq='30T')\n"
     ]
    }
   ],
   "source": [
    "# Resample to 30 min\n",
    "df_30min = df.asfreq(freq='30T')"
   ]
  },
  {
   "cell_type": "code",
   "execution_count": 6,
   "id": "31b4852f-a128-43ac-9983-a791a4296f22",
   "metadata": {},
   "outputs": [],
   "source": [
    "# Remove nan values\n",
    "df_30min.dropna(inplace=True)"
   ]
  },
  {
   "cell_type": "code",
   "execution_count": 7,
   "id": "8f4f6304-8a5f-4360-ac55-79919643c7c1",
   "metadata": {},
   "outputs": [],
   "source": [
    "# Get the timestamp index as an array\n",
    "timestamp = df_30min.index.values"
   ]
  },
  {
   "cell_type": "code",
   "execution_count": 8,
   "id": "b5b9b9ba-f7f7-48a3-ad43-c8aa2274f917",
   "metadata": {},
   "outputs": [],
   "source": [
    "# Convert room temperature column to numpy\n",
    "data_column = df_30min['RoomTemperatureRT'].values"
   ]
  },
  {
   "cell_type": "code",
   "execution_count": 9,
   "id": "7b7c6ccc-7ba4-4536-9ae9-dc79d1f38fc7",
   "metadata": {},
   "outputs": [],
   "source": [
    "# Reshape room temperature array to a day-to-day matrix\n",
    "data = np.reshape(data_column, (int(data_column.shape[0] / 48), 48))"
   ]
  },
  {
   "cell_type": "code",
   "execution_count": 10,
   "id": "a7f0de38-9011-49d1-b2c3-110805c16e80",
   "metadata": {},
   "outputs": [
    {
     "name": "stdout",
     "output_type": "stream",
     "text": [
      "inp type float64\n"
     ]
    }
   ],
   "source": [
    "# Corrupt daily input data with a predefined corruption rate [0-1] and missing scenario [continuous/random]. Use the prede\n",
    "data_corrupted_nan, mask = corruption(input=data, corruption_rate=0.4, missing_scenario='continuous')"
   ]
  },
  {
   "cell_type": "code",
   "execution_count": 11,
   "id": "0c66ed19-b9c0-4ee9-a9b8-b7f8c1b8f49d",
   "metadata": {},
   "outputs": [],
   "source": [
    "# Create a CustomStandardScaler object to normalize the data with Z-score\n",
    "scaler = StandardScaler()"
   ]
  },
  {
   "cell_type": "code",
   "execution_count": 12,
   "id": "138560fc-9bd9-4ff0-96f4-ae0613411974",
   "metadata": {},
   "outputs": [],
   "source": [
    "# Fit the scaler to the dataset and transform it\n",
    "data_normalized = scaler.fit_transform(data)"
   ]
  },
  {
   "cell_type": "code",
   "execution_count": 13,
   "id": "82aec48c-43dc-47fa-9d5f-954fce93c232",
   "metadata": {},
   "outputs": [],
   "source": [
    "# Replace nan values with zeros for modeling\n",
    "data_corrupted_normalized = data_normalized.copy()\n",
    "data_corrupted_normalized[mask] = 0.0"
   ]
  },
  {
   "cell_type": "code",
   "execution_count": 14,
   "id": "5445e1ed-1268-45e8-8b76-4a85cd87bf0f",
   "metadata": {},
   "outputs": [],
   "source": [
    "# Insert hyperparameters\n",
    "input_size  = 48\n",
    "hidden_size = 24\n",
    "lr     = 0.01\n",
    "epochs = 5000"
   ]
  },
  {
   "cell_type": "code",
   "execution_count": 15,
   "id": "52c574ff-8284-4edc-ad6d-62694c9700d2",
   "metadata": {},
   "outputs": [],
   "source": [
    "# Initialize weights and bias\n",
    "W1 = np.random.randn(input_size,  hidden_size) * 0.01           # (48, 24)\n",
    "b1 = np.zeros((1, hidden_size))  * 0.01                         # (1, 24)\n",
    "W2 = np.random.randn(hidden_size, input_size)   * 0.01          # (24, 48)\n",
    "b2 = np.zeros((1, input_size))   * 0.01                         # (1, 48)\n"
   ]
  },
  {
   "cell_type": "code",
   "execution_count": 16,
   "id": "33b47580-57fe-4f68-b1d3-0a236b61e5fb",
   "metadata": {},
   "outputs": [],
   "source": [
    "# Define a function for forward pass forward(X)\n",
    "def forward(X):\n",
    "    \n",
    "    # encoder\n",
    "    Z1 = X @ W1 + b1\n",
    "    # activation function on linear output of encoder\n",
    "    A1 = np.tanh(Z1)\n",
    "    # decoder\n",
    "    Y = A1 @ W2 + b2\n",
    "    return Z1, A1, Y"
   ]
  },
  {
   "cell_type": "code",
   "execution_count": 17,
   "id": "17b3f84a-d65f-4d79-83f0-35f1a53a7d6e",
   "metadata": {},
   "outputs": [],
   "source": [
    "# Loss function\n",
    "def loss_fn(X, Y):\n",
    "    \n",
    "    MSE = np.mean(np.square(Y - X))\n",
    "    return MSE"
   ]
  },
  {
   "cell_type": "code",
   "execution_count": 18,
   "id": "3556fb02-6170-481f-ab69-1986fd4b7b23",
   "metadata": {},
   "outputs": [],
   "source": [
    "# Backward pass. Use @ for matrix multiplications, use * for matrices of same shapes\n",
    "def backward(X, Z1, A1, Y):\n",
    "\n",
    "    # tot number of elements\n",
    "    m = X.size\n",
    "\n",
    "    # compute single derivatives: d[x]_d[y] --> derivative of x with respect to y\n",
    "\n",
    "    dL_dY = 2 * (Y - X) / m                             #(170,48)\n",
    "    #print(\"dL_dY\", dL_dY.shape)\n",
    "    dY_dW2 = A1                                         #(170,24)\n",
    "    #print(\"dY_dW2\", dY_dW2.shape)\n",
    "                  \n",
    "    dY_dA1 = W2                                         #(24, 48)\n",
    "    #print(\"dY_dA1\", dY_dA1.shape)\n",
    "    dA1_dZ1 = 1 - np.tanh(Z1)**2                        #(170, 24)\n",
    "    #print(\"dA1_dZ1\", dA1_dZ1.shape)\n",
    "    dZ1_dW1 = X                                         #(170, 48)\n",
    "    #print(\"dZ1_dW1\", dZ1_dW1.shape)\n",
    "\n",
    "    # apply chain rule, using single derivatives, to obtain the requested outputs.\n",
    "    # hint: check for shape consistency (print(\"dL_dY\", dL_dY.shape))\n",
    "    # hint: use traspose (T) when needed, e.g. (170,24).T @ (170,48) = (24,170) @ (170,48) = (24,48)\n",
    "    dL_dW2 = dY_dW2.T @ dL_dY                           #(24,170)*(170,48)=(24,48)\n",
    "    dL_db2 = dL_dY.sum(axis=0, keepdims=True)           #(1,48)\n",
    "\n",
    "    dL_dY_dZ1_dW1 = dL_dY * dZ1_dW1                     #(170,48)*(170,48)=(170,48)\n",
    "    dL_dY_dZ1_dW1_T_dA1_dZ1 = dL_dY_dZ1_dW1.T @ dA1_dZ1 #(48,170)*(170,24)=(48,24)\n",
    "    dL_dW1 = dL_dY_dZ1_dW1_T_dA1_dZ1 * dY_dA1.T         #(48,24)*(48,24)= (48,24)\n",
    "    \n",
    "    dL_dW1 = dZ1_dW1.T @ ((dL_dY @ dY_dA1.T) * dA1_dZ1) #(48, 24)\n",
    "\n",
    "    dL_dY_T_dA1_dZ1 = dL_dY.T @ dA1_dZ1                 #(48,170)*(170,24)=(48,24)\n",
    "    dL_db1_ = dL_dY_T_dA1_dZ1 * dY_dA1.T                #(48,24)*(48,24)= (48,24)\n",
    "\n",
    "    dL_db1 = dL_db1_.sum(axis=0, keepdims=True)         #(1,24)\n",
    "    \n",
    "    return dL_dW2, dL_db2, dL_dW1, dL_db1"
   ]
  },
  {
   "cell_type": "code",
   "execution_count": 19,
   "id": "5a302954-0490-44a0-9424-5c64e1721409",
   "metadata": {},
   "outputs": [
    {
     "name": "stdout",
     "output_type": "stream",
     "text": [
      "Epoch 100/5000 – loss 0.9891\n",
      "Epoch 200/5000 – loss 0.9479\n",
      "Epoch 300/5000 – loss 0.8517\n",
      "Epoch 400/5000 – loss 0.7233\n",
      "Epoch 500/5000 – loss 0.6161\n",
      "Epoch 600/5000 – loss 0.5517\n",
      "Epoch 700/5000 – loss 0.5196\n",
      "Epoch 800/5000 – loss 0.5039\n",
      "Epoch 900/5000 – loss 0.4943\n",
      "Epoch 1000/5000 – loss 0.4858\n",
      "Epoch 1100/5000 – loss 0.4760\n",
      "Epoch 1200/5000 – loss 0.4642\n",
      "Epoch 1300/5000 – loss 0.4505\n",
      "Epoch 1400/5000 – loss 0.4356\n",
      "Epoch 1500/5000 – loss 0.4206\n",
      "Epoch 1600/5000 – loss 0.4063\n",
      "Epoch 1700/5000 – loss 0.3934\n",
      "Epoch 1800/5000 – loss 0.3825\n",
      "Epoch 1900/5000 – loss 0.3736\n",
      "Epoch 2000/5000 – loss 0.3666\n",
      "Epoch 2100/5000 – loss 0.3614\n",
      "Epoch 2200/5000 – loss 0.3575\n",
      "Epoch 2300/5000 – loss 0.3549\n",
      "Epoch 2400/5000 – loss 0.3532\n",
      "Epoch 2500/5000 – loss 0.3523\n",
      "Epoch 2600/5000 – loss 0.3519\n",
      "Epoch 2700/5000 – loss 0.3520\n",
      "Epoch 2800/5000 – loss 0.3524\n",
      "Epoch 2900/5000 – loss 0.3531\n",
      "Epoch 3000/5000 – loss 0.3539\n",
      "Epoch 3100/5000 – loss 0.3549\n",
      "Epoch 3200/5000 – loss 0.3559\n",
      "Epoch 3300/5000 – loss 0.3569\n",
      "Epoch 3400/5000 – loss 0.3578\n",
      "Epoch 3500/5000 – loss 0.3588\n",
      "Epoch 3600/5000 – loss 0.3597\n",
      "Epoch 3700/5000 – loss 0.3605\n",
      "Epoch 3800/5000 – loss 0.3613\n",
      "Epoch 3900/5000 – loss 0.3620\n",
      "Epoch 4000/5000 – loss 0.3627\n",
      "Epoch 4100/5000 – loss 0.3633\n",
      "Epoch 4200/5000 – loss 0.3639\n",
      "Epoch 4300/5000 – loss 0.3644\n",
      "Epoch 4400/5000 – loss 0.3649\n",
      "Epoch 4500/5000 – loss 0.3653\n",
      "Epoch 4600/5000 – loss 0.3657\n",
      "Epoch 4700/5000 – loss 0.3660\n",
      "Epoch 4800/5000 – loss 0.3663\n",
      "Epoch 4900/5000 – loss 0.3665\n",
      "Epoch 5000/5000 – loss 0.3667\n"
     ]
    }
   ],
   "source": [
    "# Training loop\n",
    "\n",
    "for ep in range(epochs):\n",
    "\n",
    "    # forward pass\n",
    "    Z1, A1, Y = forward(data_corrupted_normalized)\n",
    "\n",
    "    # loss function\n",
    "    loss = loss_fn(data_normalized, Y)\n",
    "\n",
    "    # Backward pass\n",
    "    dL_dW2, dL_db2, dL_dW1, dL_db1 = backward(data_normalized, Z1, A1, Y)\n",
    "\n",
    "    # Gradient‑descent step\n",
    "    W1 -= lr * dL_dW1\n",
    "    b1 -= lr * dL_db1\n",
    "    W2 -= lr * dL_dW2\n",
    "    b2 -= lr * dL_db2\n",
    "\n",
    "    if (ep + 1) % 100 == 0:\n",
    "        print(f\"Epoch {ep+1}/{epochs} – loss {loss:.4f}\")"
   ]
  },
  {
   "cell_type": "code",
   "execution_count": 20,
   "id": "eaa43344-d93b-4415-9b57-20c2b20c4e2e",
   "metadata": {},
   "outputs": [],
   "source": [
    "# Reconstruction\n",
    "_, _, recon_normalized = forward(data_corrupted_normalized)"
   ]
  },
  {
   "cell_type": "code",
   "execution_count": 21,
   "id": "ea96ba78-7776-40b9-899d-881a75cc40c3",
   "metadata": {},
   "outputs": [],
   "source": [
    "# Inverse transform the imputed dataset to obtain the original scale\n",
    "data_imputed = scaler.inverse_transform(recon_normalized)"
   ]
  },
  {
   "cell_type": "code",
   "execution_count": 22,
   "id": "e100681e-3c49-4b10-a7b8-dca0dd947276",
   "metadata": {},
   "outputs": [],
   "source": [
    "data_corrupted = data.copy()\n",
    "data_corrupted[mask] = 0.0"
   ]
  },
  {
   "cell_type": "code",
   "execution_count": 23,
   "id": "0923285c-5489-4443-a5be-874aa1bdd879",
   "metadata": {},
   "outputs": [],
   "source": [
    "# Compute the daily RMSEs on the corrupted data only and take the average. Use the predefined function RMSE.\n",
    "average_error = RMSE(actual=data, imputed=data_imputed, corrupted_indices=mask)"
   ]
  },
  {
   "cell_type": "code",
   "execution_count": 24,
   "id": "459f6de8-131b-4c63-8821-cf161ceef371",
   "metadata": {},
   "outputs": [
    {
     "name": "stdout",
     "output_type": "stream",
     "text": [
      "average error: 0.4345716247696329\n"
     ]
    }
   ],
   "source": [
    "# Print average RMSE\n",
    "print(\"average error:\", average_error)"
   ]
  },
  {
   "cell_type": "code",
   "execution_count": 25,
   "id": "2c153560-95c2-4f39-8580-5198629abd93",
   "metadata": {},
   "outputs": [],
   "source": [
    "# Save the timestamp index  and the real, corrupted and imputed data to excel as xlsx file with columns. Name the file as 'KNNimpute_results.xlsx'\n",
    "# Name the columns [['timestamp', 'real_data', 'data_corrupted', 'data_imputed']]\n",
    "d = {'timestamp': timestamp, 'real_data': data.flatten(), 'data_corrupted': data_corrupted_nan.flatten(), 'data_imputed': data_imputed.flatten()}\n",
    "pd.DataFrame(data=d).to_excel('autoencoder_results.xlsx')"
   ]
  },
  {
   "cell_type": "code",
   "execution_count": 26,
   "id": "f3987eb2-2231-41f9-9c45-4ff6f99edc1f",
   "metadata": {},
   "outputs": [
    {
     "data": {
      "image/png": "[encoded data removed]",
      "text/plain": [
       "<Figure size 640x480 with 1 Axes>"
      ]
     },
     "metadata": {},
     "output_type": "display_data"
    }
   ],
   "source": [
    "# Draw the first four days. Use the predefined function draw.\n",
    "draw(file='autoencoder_results.xlsx')"
   ]
  },
  {
   "cell_type": "code",
   "execution_count": null,
   "id": "cbeec5f2-98d4-45f2-86ab-45270eb26d4c",
   "metadata": {},
   "outputs": [],
   "source": []
  }
 ],
 "metadata": {
  "kernelspec": {
   "display_name": "Python 3 (ipykernel)",
   "language": "python",
   "name": "python3"
  },
  "language_info": {
   "codemirror_mode": {
    "name": "ipython",
    "version": 3
   },
   "file_extension": ".py",
   "mimetype": "text/x-python",
   "name": "python",
   "nbconvert_exporter": "python",
   "pygments_lexer": "ipython3",
   "version": "3.12.8"
  }
 },
 "nbformat": 4,
 "nbformat_minor": 5
}
