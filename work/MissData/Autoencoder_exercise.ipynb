{
 "cells": [
  {
   "cell_type": "code",
   "execution_count": null,
   "id": "12f22909-9cce-4890-b253-9b45c3a7a569",
   "metadata": {},
   "outputs": [],
   "source": [
    "import pandas as pd\n",
    "import numpy as np\n",
    "from support_fun import corruption, RMSE, draw\n",
    "from sklearn.preprocessing import StandardScaler"
   ]
  },
  {
   "cell_type": "code",
   "execution_count": null,
   "id": "2aeb56a6-ee23-4a53-ace8-1d99adb5c3b0",
   "metadata": {},
   "outputs": [],
   "source": [
    "# Load the data"
   ]
  },
  {
   "cell_type": "code",
   "execution_count": null,
   "id": "5828aaf4-e369-45f0-bbce-c698d50b7efd",
   "metadata": {},
   "outputs": [],
   "source": [
    "# Set timestamp column to index"
   ]
  },
  {
   "cell_type": "code",
   "execution_count": null,
   "id": "7b77fee8-0890-4623-aecf-cc8277ba22ca",
   "metadata": {},
   "outputs": [],
   "source": [
    "# Resample to 30 min"
   ]
  },
  {
   "cell_type": "code",
   "execution_count": null,
   "id": "31b4852f-a128-43ac-9983-a791a4296f22",
   "metadata": {},
   "outputs": [],
   "source": [
    "# Remove nan values"
   ]
  },
  {
   "cell_type": "code",
   "execution_count": null,
   "id": "8f4f6304-8a5f-4360-ac55-79919643c7c1",
   "metadata": {},
   "outputs": [],
   "source": [
    "# Get the timestamp index as an array"
   ]
  },
  {
   "cell_type": "code",
   "execution_count": null,
   "id": "b5b9b9ba-f7f7-48a3-ad43-c8aa2274f917",
   "metadata": {},
   "outputs": [],
   "source": [
    "# Convert room temperature column to numpy"
   ]
  },
  {
   "cell_type": "code",
   "execution_count": null,
   "id": "7b7c6ccc-7ba4-4536-9ae9-dc79d1f38fc7",
   "metadata": {},
   "outputs": [],
   "source": [
    "# Reshape room temperature array to a day-to-day matrix"
   ]
  },
  {
   "cell_type": "code",
   "execution_count": null,
   "id": "a7f0de38-9011-49d1-b2c3-110805c16e80",
   "metadata": {},
   "outputs": [],
   "source": [
    "# Corrupt daily input data with a predefined corruption rate [0-1] and missing scenario [continuous/random]. Use the prede"
   ]
  },
  {
   "cell_type": "code",
   "execution_count": null,
   "id": "0c66ed19-b9c0-4ee9-a9b8-b7f8c1b8f49d",
   "metadata": {},
   "outputs": [],
   "source": [
    "# Create a CustomStandardScaler object to normalize the data with Z-score"
   ]
  },
  {
   "cell_type": "code",
   "execution_count": null,
   "id": "138560fc-9bd9-4ff0-96f4-ae0613411974",
   "metadata": {},
   "outputs": [],
   "source": [
    "# Fit the scaler to the dataset and transform it"
   ]
  },
  {
   "cell_type": "code",
   "execution_count": null,
   "id": "82aec48c-43dc-47fa-9d5f-954fce93c232",
   "metadata": {},
   "outputs": [],
   "source": [
    "# Replace nan values with zeros for modeling"
   ]
  },
  {
   "cell_type": "code",
   "execution_count": null,
   "id": "5445e1ed-1268-45e8-8b76-4a85cd87bf0f",
   "metadata": {},
   "outputs": [],
   "source": [
    "# Insert hyperparameters\n",
    "input_size  = \n",
    "hidden_size = \n",
    "lr     = \n",
    "epochs = "
   ]
  },
  {
   "cell_type": "code",
   "execution_count": null,
   "id": "52c574ff-8284-4edc-ad6d-62694c9700d2",
   "metadata": {},
   "outputs": [],
   "source": [
    "# Initialize weights and bias\n",
    "W1 =                          # (input_size, hidden_size)\n",
    "b1 =                          # (1, hidden_size)\n",
    "W2 =                          # (hidden_size, input_size)\n",
    "b2 =                          # (1, input_size)\n"
   ]
  },
  {
   "cell_type": "code",
   "execution_count": null,
   "id": "33b47580-57fe-4f68-b1d3-0a236b61e5fb",
   "metadata": {},
   "outputs": [],
   "source": [
    "# Define a function for forward pass forward(X). Use @ for matrix multiplications\n",
    "def forward(X):\n",
    "    \n",
    "    # encoder\n",
    "    Z1 =\n",
    "    # activation function on linear output of encoder\n",
    "    A1 = \n",
    "    # decoder\n",
    "    Y = \n",
    "    return Z1, A1, Y"
   ]
  },
  {
   "cell_type": "code",
   "execution_count": null,
   "id": "17b3f84a-d65f-4d79-83f0-35f1a53a7d6e",
   "metadata": {},
   "outputs": [],
   "source": [
    "# Loss function. Mean squared error\n",
    "def loss_fn(X, Y):\n",
    "    \n",
    "    loss_ = \n",
    "    return loss_"
   ]
  },
  {
   "cell_type": "code",
   "execution_count": null,
   "id": "3556fb02-6170-481f-ab69-1986fd4b7b23",
   "metadata": {},
   "outputs": [],
   "source": [
    "# Backward pass. Use @ for matrix multiplications, use * for matrices of same shapes\n",
    "def backward(X, Z1, A1, Y):\n",
    "\n",
    "    # tot number of elements\n",
    "    m = X.size\n",
    "\n",
    "    # compute single derivatives: d[x]_d[y] --> derivative of x with respect to y\n",
    "    dL_dY =                                          \n",
    "    dY_dW2 =       \n",
    "    \n",
    "    dY_dA1 =                                           \n",
    "    dA1_dZ1 =                       \n",
    "    dZ1_dW1 =                                          \n",
    "\n",
    "    # apply chain rule, using single derivatives, to obtain the requested outputs.\n",
    "    # hint: check for shape consistency (print(\"dL_dY\", dL_dY.shape))\n",
    "    # hint: use traspose (T) when needed, e.g. (170,24).T @ (170,48) = (24,170) @ (170,48) = (24,48)\n",
    "    dL_db2 = dL_dY.sum(axis=0, keepdims=True)   \n",
    "\n",
    "    \n",
    "    \n",
    "    return dL_dW2, dL_db2, dL_dW1, dL_db1"
   ]
  },
  {
   "cell_type": "code",
   "execution_count": null,
   "id": "5a302954-0490-44a0-9424-5c64e1721409",
   "metadata": {},
   "outputs": [],
   "source": [
    "# Training loop\n",
    "\n",
    "for ep in range(epochs):\n",
    "\n",
    "    # forward pass\n",
    "\n",
    "    # loss function\n",
    "\n",
    "    # Backward pass\n",
    "\n",
    "    # Gradient‑descent step\n",
    "\n",
    "     \n",
    "    if (ep + 1) % 100 == 0:\n",
    "        print(f\"Epoch {ep+1}/{epochs} – loss {loss:.4f}\")"
   ]
  },
  {
   "cell_type": "code",
   "execution_count": null,
   "id": "eaa43344-d93b-4415-9b57-20c2b20c4e2e",
   "metadata": {},
   "outputs": [],
   "source": [
    "# Reconstruction"
   ]
  },
  {
   "cell_type": "code",
   "execution_count": null,
   "id": "ea96ba78-7776-40b9-899d-881a75cc40c3",
   "metadata": {},
   "outputs": [],
   "source": [
    "# Inverse transform the imputed dataset to obtain the original scale"
   ]
  },
  {
   "cell_type": "code",
   "execution_count": null,
   "id": "e100681e-3c49-4b10-a7b8-dca0dd947276",
   "metadata": {},
   "outputs": [],
   "source": [
    "# Replace nan values"
   ]
  },
  {
   "cell_type": "code",
   "execution_count": null,
   "id": "0923285c-5489-4443-a5be-874aa1bdd879",
   "metadata": {},
   "outputs": [],
   "source": [
    "# Compute the daily RMSEs on the corrupted data only and take the average. Use the predefined function RMSE."
   ]
  },
  {
   "cell_type": "code",
   "execution_count": null,
   "id": "459f6de8-131b-4c63-8821-cf161ceef371",
   "metadata": {},
   "outputs": [],
   "source": [
    "# Print average RMSE"
   ]
  },
  {
   "cell_type": "code",
   "execution_count": null,
   "id": "2c153560-95c2-4f39-8580-5198629abd93",
   "metadata": {},
   "outputs": [],
   "source": [
    "# Save the timestamp index  and the real, corrupted and imputed data to excel as xlsx file with columns. Name the file as 'KNNimpute_results.xlsx'\n",
    "# Name the columns [['timestamp', 'real_data', 'data_corrupted', 'data_imputed']]"
   ]
  },
  {
   "cell_type": "code",
   "execution_count": null,
   "id": "f3987eb2-2231-41f9-9c45-4ff6f99edc1f",
   "metadata": {},
   "outputs": [],
   "source": [
    "# Draw the first four days. Use the predefined function draw."
   ]
  },
  {
   "cell_type": "code",
   "execution_count": null,
   "id": "cbeec5f2-98d4-45f2-86ab-45270eb26d4c",
   "metadata": {},
   "outputs": [],
   "source": []
  }
 ],
 "metadata": {
  "kernelspec": {
   "display_name": "Python 3 (ipykernel)",
   "language": "python",
   "name": "python3"
  },
  "language_info": {
   "codemirror_mode": {
    "name": "ipython",
    "version": 3
   },
   "file_extension": ".py",
   "mimetype": "text/x-python",
   "name": "python",
   "nbconvert_exporter": "python",
   "pygments_lexer": "ipython3",
   "version": "3.12.8"
  }
 },
 "nbformat": 4,
 "nbformat_minor": 5
}
