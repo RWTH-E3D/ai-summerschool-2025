{
 "cells": [
  {
   "cell_type": "markdown",
   "id": "dda73c08-df82-4b7b-9c9f-578a153d82f5",
   "metadata": {},
   "source": [
    "Linear Interpolation"
   ]
  },
  {
   "cell_type": "code",
   "execution_count": null,
   "id": "3bf5d6f8-e5a0-41e5-babd-ec06cb576517",
   "metadata": {},
   "outputs": [],
   "source": [
    "import pandas as pd\n",
    "import numpy as np\n",
    "from support_fun import corruption, RMSE"
   ]
  },
  {
   "cell_type": "code",
   "execution_count": null,
   "id": "118bf549-2ea3-45bb-b181-4af171e07694",
   "metadata": {
    "scrolled": true,
    "tags": []
   },
   "outputs": [],
   "source": [
    "# Load the data"
   ]
  },
  {
   "cell_type": "code",
   "execution_count": null,
   "id": "93094cc4-901f-496c-9d76-be1b5c76b733",
   "metadata": {
    "tags": []
   },
   "outputs": [],
   "source": [
    "# Set timestamp column to index"
   ]
  },
  {
   "cell_type": "code",
   "execution_count": null,
   "id": "bb6f02f3-e443-423c-a9f8-4cc22930160e",
   "metadata": {
    "tags": []
   },
   "outputs": [],
   "source": [
    "# Resample to 30 min"
   ]
  },
  {
   "cell_type": "code",
   "execution_count": null,
   "id": "977917d0-a994-4e77-8688-b0897bf0a49f",
   "metadata": {
    "tags": []
   },
   "outputs": [],
   "source": [
    "# Remove nan values\n",
    "#dropna() will remove any rows that contain NaN values by default.\n",
    "#You can either modify df_30min in place or create a new variable.\n",
    "#inplace=True: Modifies the original DataFrame directly without needing to assign the result to a new variable.\n",
    "#Without inplace=True: You need to store the modified DataFrame in a new variable"
   ]
  },
  {
   "cell_type": "code",
   "execution_count": null,
   "id": "58149a3c-8358-4274-883d-a712f8415629",
   "metadata": {
    "tags": []
   },
   "outputs": [],
   "source": [
    "# Get the timestamp index as an array"
   ]
  },
  {
   "cell_type": "code",
   "execution_count": null,
   "id": "354d2a55-0031-4349-91a8-0b2c7945e04b",
   "metadata": {
    "tags": []
   },
   "outputs": [],
   "source": [
    "# Convert room temperature column to numpy (numerical Python, library that helps with matrices etc)"
   ]
  },
  {
   "cell_type": "code",
   "execution_count": null,
   "id": "ea9fecdb-3992-41a5-bbde-0f858cacf97d",
   "metadata": {
    "tags": []
   },
   "outputs": [],
   "source": [
    "# Reshape room temperature array to a day-to-day matrix"
   ]
  },
  {
   "cell_type": "code",
   "execution_count": null,
   "id": "d9db3137-6286-4f78-b1ea-7ca5ef1ad676",
   "metadata": {
    "tags": []
   },
   "outputs": [],
   "source": [
    "# Corrupt daily input data with a predefined corruption rate [0-1] and missing scenario [continuous/random]. Use the predefined function corruption."
   ]
  },
  {
   "cell_type": "code",
   "execution_count": null,
   "id": "cfc2759d-2d30-4d7a-ad3f-dd4ea6820f17",
   "metadata": {
    "tags": []
   },
   "outputs": [],
   "source": [
    "# Turn numpy matrix back into a pandas dataframe"
   ]
  },
  {
   "cell_type": "code",
   "execution_count": null,
   "id": "4c3d9213-b7ac-40d5-a3d6-475269467d5c",
   "metadata": {
    "tags": []
   },
   "outputs": [],
   "source": [
    "# Fill the missing values using linear interpolation"
   ]
  },
  {
   "cell_type": "code",
   "execution_count": null,
   "id": "7de8fdaf-d926-44c6-9731-4b3a281ce382",
   "metadata": {
    "tags": []
   },
   "outputs": [],
   "source": [
    "# Apply back propagation to fill the remaining NaNs at the beginning of each row"
   ]
  },
  {
   "cell_type": "code",
   "execution_count": null,
   "id": "0443ff4d-90ff-4868-822d-227792be53fd",
   "metadata": {
    "tags": []
   },
   "outputs": [],
   "source": [
    "# Apply forward propagation to fill the remaining NaNs at the end of each row"
   ]
  },
  {
   "cell_type": "code",
   "execution_count": null,
   "id": "a1f54a04-cd45-40da-b70a-e7582cad1c37",
   "metadata": {
    "tags": []
   },
   "outputs": [],
   "source": [
    "# Turn pandas dataframe back into a numpy matrix"
   ]
  },
  {
   "cell_type": "code",
   "execution_count": null,
   "id": "143f099d-64a6-41c1-a3c4-5db475287bd2",
   "metadata": {
    "tags": []
   },
   "outputs": [],
   "source": [
    "# Compute the daily RMSEs on the corrupted data only and take the average. Use the predefined function RMSE."
   ]
  },
  {
   "cell_type": "code",
   "execution_count": null,
   "id": "a5cb85bb-308b-4fec-bbd0-cc946eef0aca",
   "metadata": {
    "tags": []
   },
   "outputs": [],
   "source": [
    "# Print average RMS "
   ]
  },
  {
   "cell_type": "code",
   "execution_count": null,
   "id": "e839d432-80e0-40d4-9525-25a83f34f07c",
   "metadata": {
    "tags": []
   },
   "outputs": [],
   "source": [
    "# Save the timestamp index  and the real, corrupted and imputed data to excel as xlsx file with columns. Name the file as 'LinearInterpolation_results.xlsx'\n",
    "# Name the columns [['timestamp', 'real_data', 'data_corrupted', 'data_imputed']]"
   ]
  },
  {
   "cell_type": "code",
   "execution_count": null,
   "id": "4d1f5109-b74e-4c20-bce2-7587ff43ea6d",
   "metadata": {},
   "outputs": [],
   "source": [
    "# Draw the first four days. Use the predefined function draw."
   ]
  },
  {
   "cell_type": "markdown",
   "id": "e63030ba-c248-4d9a-afa5-a0c97ff2e750",
   "metadata": {
    "tags": []
   },
   "source": [
    "Mean Operation"
   ]
  },
  {
   "cell_type": "code",
   "execution_count": null,
   "id": "3e12c3fd-5264-4a95-afe5-933d4ea30ac4",
   "metadata": {
    "tags": []
   },
   "outputs": [],
   "source": [
    "import pandas as pd\n",
    "import numpy as np\n",
    "from support_fun import corruption, RMSE"
   ]
  },
  {
   "cell_type": "code",
   "execution_count": null,
   "id": "adbedd28-debc-4ae6-8c17-1ab5ba958975",
   "metadata": {
    "tags": []
   },
   "outputs": [],
   "source": [
    "# Load the data"
   ]
  },
  {
   "cell_type": "code",
   "execution_count": null,
   "id": "2697695a-25e4-4cb9-a459-2227bf6c4718",
   "metadata": {
    "tags": []
   },
   "outputs": [],
   "source": [
    "# Set timestamp column to index"
   ]
  },
  {
   "cell_type": "code",
   "execution_count": null,
   "id": "044abdb1-c3ed-4573-9adc-42b3241abc83",
   "metadata": {
    "tags": []
   },
   "outputs": [],
   "source": [
    "# Resample to 30 min"
   ]
  },
  {
   "cell_type": "code",
   "execution_count": null,
   "id": "d0f44130-04f3-4560-96c2-7408167fd0a3",
   "metadata": {
    "tags": []
   },
   "outputs": [],
   "source": [
    "# Remove nan values"
   ]
  },
  {
   "cell_type": "code",
   "execution_count": null,
   "id": "4fc104ce-5820-47d2-bcd4-f250436e1bdc",
   "metadata": {
    "tags": []
   },
   "outputs": [],
   "source": [
    "# Get the timestamp index as an array"
   ]
  },
  {
   "cell_type": "code",
   "execution_count": null,
   "id": "aae75f35-c0d3-483d-b133-7316f117cd43",
   "metadata": {
    "tags": []
   },
   "outputs": [],
   "source": [
    "# Convert room temperature column to numpy"
   ]
  },
  {
   "cell_type": "code",
   "execution_count": null,
   "id": "b8160314-3989-4516-8c3c-14818606ccdf",
   "metadata": {
    "tags": []
   },
   "outputs": [],
   "source": [
    "# Reshape room temperature array to a day-to-day matrix"
   ]
  },
  {
   "cell_type": "code",
   "execution_count": null,
   "id": "c5319a43-7ee7-4d1d-a6f5-a388c834c64f",
   "metadata": {
    "tags": []
   },
   "outputs": [],
   "source": [
    "# Corrupt daily input data with a predefined corruption rate [0-1] and missing scenario [continuous/random]. Use the predefined function corruption."
   ]
  },
  {
   "cell_type": "code",
   "execution_count": null,
   "id": "0fa2aa0d-c281-4602-8534-4e16acc7c19a",
   "metadata": {
    "tags": []
   },
   "outputs": [],
   "source": [
    "# Turn numpy matrix back into a pandas dataframe"
   ]
  },
  {
   "cell_type": "code",
   "execution_count": null,
   "id": "c4be12a4-d02f-4aa6-9fdd-14fdc0df9731",
   "metadata": {
    "tags": []
   },
   "outputs": [],
   "source": [
    "# Fill the missing values by computing the average between the back and forward propagated dataframes"
   ]
  },
  {
   "cell_type": "code",
   "execution_count": null,
   "id": "80748255-1519-4435-a916-74c9c268c483",
   "metadata": {
    "tags": []
   },
   "outputs": [],
   "source": [
    "# Apply back propagation to fill the remaining NaNs at the beginning of each row"
   ]
  },
  {
   "cell_type": "code",
   "execution_count": null,
   "id": "4261e94b-42f7-4d64-94f6-504411e9e076",
   "metadata": {
    "tags": []
   },
   "outputs": [],
   "source": [
    "# Apply forward propagation to fill the remaining NaNs at the end of each row"
   ]
  },
  {
   "cell_type": "code",
   "execution_count": null,
   "id": "f3574210-d326-49ca-8eb6-a35c184c6741",
   "metadata": {
    "tags": []
   },
   "outputs": [],
   "source": [
    "# Turn pandas dataframe back into a numpy matrix"
   ]
  },
  {
   "cell_type": "code",
   "execution_count": null,
   "id": "260cccfd-a407-4c56-9c09-77d08b97d5b9",
   "metadata": {
    "tags": []
   },
   "outputs": [],
   "source": [
    "# Compute the daily RMSEs on the corrupted data only and take the average. Use the predefined function RMSE."
   ]
  },
  {
   "cell_type": "code",
   "execution_count": null,
   "id": "fa22ddce-1fa2-4c76-a5ef-c85d2bfaf97e",
   "metadata": {
    "tags": []
   },
   "outputs": [],
   "source": [
    "# Print average RMSE"
   ]
  },
  {
   "cell_type": "code",
   "execution_count": null,
   "id": "b5a4a2ac-f002-4e06-b88f-b4e82dc4f3f0",
   "metadata": {
    "tags": []
   },
   "outputs": [],
   "source": [
    "# Save the timestamp index  and the real, corrupted and imputed data to excel as xlsx file with columns. Name the file as 'MeanOperation_results.xlsx'\n",
    "# Name the columns [['timestamp', 'real_data', 'data_corrupted', 'data_imputed']]"
   ]
  },
  {
   "cell_type": "code",
   "execution_count": null,
   "id": "d3671742-315e-4d75-80b7-f82b21f5f8ec",
   "metadata": {},
   "outputs": [],
   "source": [
    "# Draw the first four days. Use the predefined function draw."
   ]
  },
  {
   "cell_type": "markdown",
   "id": "b505a17f-c301-4cee-a525-da3a5fd7b312",
   "metadata": {},
   "source": [
    "KNNimpute"
   ]
  },
  {
   "cell_type": "code",
   "execution_count": null,
   "id": "73a19cc8-c6fd-4899-bcb6-c69c2759075c",
   "metadata": {
    "tags": []
   },
   "outputs": [],
   "source": [
    "import pandas as pd\n",
    "import numpy as np\n",
    "from sklearn.impute import KNNImputer\n",
    "from support_fun import corruption, RMSE\n",
    "from sklearn.preprocessing import StandardScaler"
   ]
  },
  {
   "cell_type": "code",
   "execution_count": null,
   "id": "4d16d4a4-edf3-4016-b8a4-3e31f42a0bac",
   "metadata": {
    "tags": []
   },
   "outputs": [],
   "source": [
    "# Load the data"
   ]
  },
  {
   "cell_type": "code",
   "execution_count": null,
   "id": "f22ce7be-6544-42f0-bec7-82f062e9c67a",
   "metadata": {
    "tags": []
   },
   "outputs": [],
   "source": [
    "# Set timestamp column to index"
   ]
  },
  {
   "cell_type": "code",
   "execution_count": null,
   "id": "48018826-6c88-4d55-ae6f-468f945005d6",
   "metadata": {
    "tags": []
   },
   "outputs": [],
   "source": [
    "# Resample to 30 min"
   ]
  },
  {
   "cell_type": "code",
   "execution_count": null,
   "id": "433d34e9-b639-4a7b-926e-30915cd41600",
   "metadata": {
    "tags": []
   },
   "outputs": [],
   "source": [
    "# Remove NaNs"
   ]
  },
  {
   "cell_type": "code",
   "execution_count": null,
   "id": "85357407-1515-41a3-a3c1-2ececb9e3ce7",
   "metadata": {
    "tags": []
   },
   "outputs": [],
   "source": [
    "# Get the timestamp index as an array"
   ]
  },
  {
   "cell_type": "code",
   "execution_count": null,
   "id": "67aa9d1b-f233-44f9-93e6-daebbee12309",
   "metadata": {
    "tags": []
   },
   "outputs": [],
   "source": [
    "# Convert room temperature column to numpy"
   ]
  },
  {
   "cell_type": "code",
   "execution_count": null,
   "id": "2ed43bb9-b322-47ed-af36-2100f3c58b83",
   "metadata": {
    "tags": []
   },
   "outputs": [],
   "source": [
    "# Reshape room temperature array to a day-to-day matrix"
   ]
  },
  {
   "cell_type": "code",
   "execution_count": null,
   "id": "bbd7da70-dbe4-4690-aebb-9b7ac713617c",
   "metadata": {
    "tags": []
   },
   "outputs": [],
   "source": [
    "# Corrupt daily input data with a predefined corruption rate [0-1] and missing scenario [continuous/random]. Use the predefined function corruption."
   ]
  },
  {
   "cell_type": "code",
   "execution_count": null,
   "id": "bde0daf4-11a3-4d33-a20a-0337a918f62a",
   "metadata": {
    "tags": []
   },
   "outputs": [],
   "source": [
    "# Create a CustomStandardScaler object to normalize the data with Z-score"
   ]
  },
  {
   "cell_type": "code",
   "execution_count": null,
   "id": "9807e502-7a30-4079-9ada-f9556b3a046c",
   "metadata": {
    "tags": []
   },
   "outputs": [],
   "source": [
    "# Fit the scaler to the dataset and transform it"
   ]
  },
  {
   "cell_type": "code",
   "execution_count": null,
   "id": "54fa9fa2-f8f6-4111-8c05-c5c0bceb7e81",
   "metadata": {
    "tags": []
   },
   "outputs": [],
   "source": [
    "# Create a KNNImputer object with n_neighbors=default"
   ]
  },
  {
   "cell_type": "code",
   "execution_count": null,
   "id": "a2bbaa8d-d93f-45aa-98c3-d1f6b02c5f8b",
   "metadata": {
    "tags": []
   },
   "outputs": [],
   "source": [
    "# Impute the missing values on the normalized dataset"
   ]
  },
  {
   "cell_type": "code",
   "execution_count": null,
   "id": "ffcf822d-c083-402b-a5c1-c82391955748",
   "metadata": {
    "tags": []
   },
   "outputs": [],
   "source": [
    "# Inverse transform the imputed dataset to obtain the original scale"
   ]
  },
  {
   "cell_type": "code",
   "execution_count": null,
   "id": "09e59269-bcee-4ca8-9751-e0c09fd12765",
   "metadata": {
    "tags": []
   },
   "outputs": [],
   "source": [
    "# Compute the daily RMSEs on the corrupted data only and take the average. Use the predefined function RMSE."
   ]
  },
  {
   "cell_type": "code",
   "execution_count": null,
   "id": "5c485414-ea2e-4eb1-a51d-6e9d8efdaaa6",
   "metadata": {
    "tags": []
   },
   "outputs": [],
   "source": [
    "# Print average RMSE"
   ]
  },
  {
   "cell_type": "code",
   "execution_count": null,
   "id": "c79728e7-95f0-449d-85f5-3f8f17e590c0",
   "metadata": {
    "tags": []
   },
   "outputs": [],
   "source": [
    "# Save the timestamp index  and the real, corrupted and imputed data to excel as xlsx file with columns. Name the file as 'KNNimpute_results.xlsx'\n",
    "# Name the columns [['timestamp', 'real_data', 'data_corrupted', 'data_imputed']]"
   ]
  },
  {
   "cell_type": "code",
   "execution_count": null,
   "id": "ebc5c022-8158-4075-a4a5-f248818d145b",
   "metadata": {},
   "outputs": [],
   "source": [
    "# Draw the first four days. Use the predefined function draw."
   ]
  },
  {
   "cell_type": "markdown",
   "id": "eee04d08-14c9-4e21-95fd-a718dc4411e2",
   "metadata": {},
   "source": [
    "MissForest"
   ]
  },
  {
   "cell_type": "code",
   "execution_count": null,
   "id": "97a42424-1651-4b26-860c-71121af3f021",
   "metadata": {
    "tags": []
   },
   "outputs": [],
   "source": [
    "import pandas as pd\n",
    "import numpy as np\n",
    "from Missforest_model import MissForest\n",
    "from support_fun import corruption, RMSE\n",
    "import warnings\n",
    "warnings.filterwarnings(\"ignore\")"
   ]
  },
  {
   "cell_type": "code",
   "execution_count": null,
   "id": "07965d63-abb1-4502-ab54-3ac34648e7e7",
   "metadata": {
    "tags": []
   },
   "outputs": [],
   "source": [
    "# Load the data"
   ]
  },
  {
   "cell_type": "code",
   "execution_count": null,
   "id": "1b74eae9-765e-487a-9f7a-4699349f2fa5",
   "metadata": {
    "tags": []
   },
   "outputs": [],
   "source": [
    "# Set timestamp column to index"
   ]
  },
  {
   "cell_type": "code",
   "execution_count": null,
   "id": "5b560400-8255-4928-81d9-00b52260d521",
   "metadata": {
    "tags": []
   },
   "outputs": [],
   "source": [
    "# Resample to 30 min"
   ]
  },
  {
   "cell_type": "code",
   "execution_count": null,
   "id": "31043074-8b06-427a-b4a5-4b2a128cc886",
   "metadata": {
    "tags": []
   },
   "outputs": [],
   "source": [
    "# Remove NaNs"
   ]
  },
  {
   "cell_type": "code",
   "execution_count": null,
   "id": "86ba85b0-4f4b-43da-bb84-93fe98097fe9",
   "metadata": {
    "tags": []
   },
   "outputs": [],
   "source": [
    "# Get the timestamp index as an array"
   ]
  },
  {
   "cell_type": "code",
   "execution_count": null,
   "id": "698781b8-0853-429a-84a3-aadb9fdcf2ed",
   "metadata": {
    "tags": []
   },
   "outputs": [],
   "source": [
    "# Remove NaNs"
   ]
  },
  {
   "cell_type": "code",
   "execution_count": null,
   "id": "d5f770e9-47e5-4526-9791-69bcc7f823fc",
   "metadata": {
    "tags": []
   },
   "outputs": [],
   "source": [
    "# Convert room temperature column to numpy"
   ]
  },
  {
   "cell_type": "code",
   "execution_count": null,
   "id": "bc6ad02c-6337-41a9-8b47-748cc15bda92",
   "metadata": {
    "tags": []
   },
   "outputs": [],
   "source": [
    "# Reshape room temperature array to a day-to-day matrix"
   ]
  },
  {
   "cell_type": "code",
   "execution_count": null,
   "id": "46be48d2-4427-46f2-9da5-68ef83d245f4",
   "metadata": {
    "tags": []
   },
   "outputs": [],
   "source": [
    "# Corrupt daily input data with a predefined corruption rate [0-1] and missing scenario [continuous/random]. Use the predefined function corruption."
   ]
  },
  {
   "cell_type": "code",
   "execution_count": null,
   "id": "919a2e99-1248-48e6-bbc4-9941d998b80b",
   "metadata": {
    "tags": []
   },
   "outputs": [],
   "source": [
    "# Create a MissForest object with max_iter=default, n_estimators=default and random_state=default"
   ]
  },
  {
   "cell_type": "code",
   "execution_count": null,
   "id": "77794f06-9162-40ef-a567-5557789069f7",
   "metadata": {
    "tags": []
   },
   "outputs": [],
   "source": [
    "# Impute the missing values on the dataset"
   ]
  },
  {
   "cell_type": "code",
   "execution_count": null,
   "id": "ea186054-bfd6-4688-a765-ea7246b7f5ec",
   "metadata": {
    "tags": []
   },
   "outputs": [],
   "source": [
    "# Compute the daily RMSEs on the corrupted data only and take the average. Use the predefined function RMSE."
   ]
  },
  {
   "cell_type": "code",
   "execution_count": null,
   "id": "3eeccdc9-91de-4517-9efc-37037866a5ca",
   "metadata": {
    "tags": []
   },
   "outputs": [],
   "source": [
    "# Print average RMSE"
   ]
  },
  {
   "cell_type": "code",
   "execution_count": null,
   "id": "13aed94a-f20b-4965-83b9-4e3f5a6e6037",
   "metadata": {
    "tags": []
   },
   "outputs": [],
   "source": [
    "# Save the timestamp index  and the real, corrupted and imputed data to excel as xlsx file with columns. Name the file as 'MissForest_results.xlsx'\n",
    "# Name the columns [['timestamp', 'real_data', 'data_corrupted', 'data_imputed']]"
   ]
  },
  {
   "cell_type": "code",
   "execution_count": null,
   "id": "cf1823d3-7552-406f-9eb8-27bbe68a03bb",
   "metadata": {},
   "outputs": [],
   "source": [
    "# Draw the first four days. Use the predefined function draw."
   ]
  }
 ],
 "metadata": {
  "kernelspec": {
   "display_name": "Python 3 (ipykernel)",
   "language": "python",
   "name": "python3"
  },
  "language_info": {
   "codemirror_mode": {
    "name": "ipython",
    "version": 3
   },
   "file_extension": ".py",
   "mimetype": "text/x-python",
   "name": "python",
   "nbconvert_exporter": "python",
   "pygments_lexer": "ipython3",
   "version": "3.12.8"
  }
 },
 "nbformat": 4,
 "nbformat_minor": 5
}
